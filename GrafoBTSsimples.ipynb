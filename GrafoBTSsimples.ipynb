{
 "cells": [
  {
   "cell_type": "code",
   "execution_count": 1,
   "metadata": {},
   "outputs": [],
   "source": [
    "grafo = {\n",
    "    'a': ['b', 'd', 'e'],\n",
    "    'b': ['a', 'c', 'e'],\n",
    "    'c': ['b', 'e'],\n",
    "    'd': ['a', 'e'],\n",
    "    'e': ['a', 'b', 'c', 'd', 'f'],\n",
    "    'f': ['e']\n",
    "}\n",
    "\n",
    "def busca_em_largura(grafo, vertice_do_grafo):\n",
    "    fila = [] # fila da busca, afinal ela eh em largura! .append(elemento) -> adiciona elemento na fila ; .pop(0) -> proximo na fila\n",
    "    # como os graus de entrada e saida de cada vertice sao iguais em uma busca em largura, chamamos ambos os valores de largura do vertice\n",
    "    largura = {}\n",
    "    l = 1 # contador de largura dos vertices na busca\n",
    "    pai = {} # dicionario com os pais de cada vertice na arvore de busca em largura\n",
    "    nivel = {} # nivel de cada vertice na arvore de busca em largura\n",
    "    aresta = {} # classificacao das arestas na arvore de busca em largura do grafo\n",
    "\n",
    "    # primeira insercao na fila eh o vertice do grafo escolhido arbitrariamente (passado como parametro dessa funcao)\n",
    "    fila.append(vertice_do_grafo)\n",
    "    largura[vertice_do_grafo] = l # a largura da raiz da arvore de busca em largura comeca por 1\n",
    "    pai[vertice_do_grafo] = None # o primeiro vertice a entrar na fila (raiz da arvore de busca em largura) tem pai nulo (None object)\n",
    "    nivel[vertice_do_grafo] = 1 # o nivel do primeiro vertice a entrar na fila a (raiz da arvore de busca em largura) eh 1\n",
    "\n",
    "    # enquanto tivermos alguem na fila vamos continuar a busca. Grafos nao-conexos nao estao sendo tratados!\n",
    "    while len(fila):\n",
    "        vertice = fila.pop(0) # pega o proximo vertice da fila\n",
    "        # colocando os vizinhos que ainda naum estavam na fila\n",
    "        for vizinho in grafo.get(vertice):\n",
    "            # testando se o vizinho jah foi visitado (se o get retornar None, significa que este vertice nunca entrou na fila)\n",
    "            if not largura.get(vizinho): # se o vizinho ainda naum foi visitado...\n",
    "                fila.append(vizinho) # ... colocamos na fila para visita-lo no seu devido momento\n",
    "                l += 1 # atualizando o contador de largura\n",
    "                largura[vizinho] = l\n",
    "                pai[vizinho] = vertice\n",
    "                nivel[vizinho] = nivel[vertice] + 1 # um vizinho estah sempre um nivel abaixo do pai\n",
    "            # MOMENTO PARA VISITAR A ARESTA vertice -> vizinho\n",
    "            # (descomente os codigos abaixo para ver a ordem em que as arestas sao visitadas e suas respectivas classificacoes)\n",
    "            # print('%s -> %s:' % (str(vertice), str(vizinho)))\n",
    "            if pai[vizinho] == vertice or pai[vertice] == vizinho:\n",
    "                aresta[(vertice, vizinho)] = 'aresta de arvore'\n",
    "                # print('aresta de arvore')\n",
    "            elif nivel[vertice] == nivel[vizinho]:\n",
    "                if pai[vertice] == pai[vizinho]:\n",
    "                    aresta[(vertice, vizinho)] = 'aresta irma'\n",
    "                    # print('aresta irma')\n",
    "                else:\n",
    "                    aresta[(vertice, vizinho)] = 'aresta primo'\n",
    "                    # print('aresta primo')\n",
    "            else:\n",
    "                if nivel[vertice] < nivel[vizinho]:\n",
    "                    aresta[(vertice, vizinho)] = 'aresta tia'\n",
    "                    # print('aresta tia')\n",
    "                else:\n",
    "                    aresta[(vertice, vizinho)] = 'aresta sobrinha'\n",
    "                    # print('aresta sobrinha')\n",
    "\n",
    "    return largura, pai, aresta, nivel\n",
    "\n",
    "largura, pai, aresta, nivel = busca_em_largura(grafo, 'a')"
   ]
  },
  {
   "cell_type": "code",
   "execution_count": 2,
   "metadata": {},
   "outputs": [
    {
     "data": {
      "text/plain": [
       "{'a': 1, 'b': 2, 'd': 2, 'e': 2, 'c': 3, 'f': 3}"
      ]
     },
     "execution_count": 2,
     "metadata": {},
     "output_type": "execute_result"
    }
   ],
   "source": [
    "nivel\n"
   ]
  },
  {
   "cell_type": "code",
   "execution_count": null,
   "metadata": {},
   "outputs": [],
   "source": []
  }
 ],
 "metadata": {
  "kernelspec": {
   "display_name": "Python 3",
   "language": "python",
   "name": "python3"
  },
  "language_info": {
   "codemirror_mode": {
    "name": "ipython",
    "version": 3
   },
   "file_extension": ".py",
   "mimetype": "text/x-python",
   "name": "python",
   "nbconvert_exporter": "python",
   "pygments_lexer": "ipython3",
   "version": "3.6.5"
  }
 },
 "nbformat": 4,
 "nbformat_minor": 2
}
